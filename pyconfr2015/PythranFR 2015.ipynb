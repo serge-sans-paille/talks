{
 "cells": [
  {
   "cell_type": "markdown",
   "metadata": {
    "slideshow": {
     "slide_type": "slide"
    }
   },
   "source": [
    "# We don't need your loop\n",
    "\n",
    "*by serge_sans_paille*\n",
    "\n",
    "Quarkslab / Télécom Bretagne / Namek\n",
    "\n",
    "PyConFR 2015"
   ]
  },
  {
   "cell_type": "markdown",
   "metadata": {
    "slideshow": {
     "slide_type": "slide"
    }
   },
   "source": [
    "## Une brève histoire de la boucle"
   ]
  },
  {
   "cell_type": "markdown",
   "metadata": {
    "slideshow": {
     "slide_type": "fragment"
    }
   },
   "source": [
    "### Assembleur\n",
    "\n",
    "\n",
    "```\n",
    ".L3:\n",
    "    addsd   (%rsi), %xmm0\n",
    "    addq    $8, %rsi\n",
    "    cmpq    %rax, %rsi\n",
    "    jne .L3\n",
    "```"
   ]
  },
  {
   "cell_type": "markdown",
   "metadata": {
    "slideshow": {
     "slide_type": "subslide"
    }
   },
   "source": [
    "### FORTRAN\n",
    "\n",
    "```fortran\n",
    "      do 10 i = 1, n\n",
    "         sum = sum + A(i)\n",
    "  10  continue\n",
    "```"
   ]
  },
  {
   "cell_type": "markdown",
   "metadata": {
    "slideshow": {
     "slide_type": "subslide"
    }
   },
   "source": [
    "### C\n",
    "\n",
    "```c\n",
    "for(unsigned i = 0; i < n ; ++i)\n",
    "  sum += A[i];\n",
    "```"
   ]
  },
  {
   "cell_type": "markdown",
   "metadata": {
    "slideshow": {
     "slide_type": "subslide"
    }
   },
   "source": [
    "### APL\n",
    "\n",
    "```apl\n",
    "+/ A\n",
    "```"
   ]
  },
  {
   "cell_type": "markdown",
   "metadata": {
    "slideshow": {
     "slide_type": "subslide"
    }
   },
   "source": [
    "### Python"
   ]
  },
  {
   "cell_type": "code",
   "execution_count": 2,
   "metadata": {
    "collapsed": false
   },
   "outputs": [
    {
     "name": "stdout",
     "output_type": "stream",
     "text": [
      "[ 0.46102614  0.56142032  0.60601388  0.38648678  0.2613231   0.82951922\n",
      "  0.55104271  0.72755349  0.84486497  0.69278971]\n"
     ]
    }
   ],
   "source": [
    "import numpy\n",
    "n = 10\n",
    "A = numpy.random.random(n)\n",
    "print(A)"
   ]
  },
  {
   "cell_type": "markdown",
   "metadata": {
    "slideshow": {
     "slide_type": "fragment"
    }
   },
   "source": [
    "#### Fortran style"
   ]
  },
  {
   "cell_type": "code",
   "execution_count": 2,
   "metadata": {
    "collapsed": false
   },
   "outputs": [
    {
     "name": "stdout",
     "output_type": "stream",
     "text": [
      "3.83779068785\n"
     ]
    }
   ],
   "source": [
    "s = 0\n",
    "for i in range(n):\n",
    "    s += A[i]\n",
    "print(s)"
   ]
  },
  {
   "cell_type": "markdown",
   "metadata": {
    "slideshow": {
     "slide_type": "fragment"
    }
   },
   "source": [
    "#### APL style"
   ]
  },
  {
   "cell_type": "code",
   "execution_count": 3,
   "metadata": {
    "collapsed": false
   },
   "outputs": [
    {
     "name": "stdout",
     "output_type": "stream",
     "text": [
      "3.83779068785\n"
     ]
    }
   ],
   "source": [
    "s = numpy.sum(A)\n",
    "print(s)"
   ]
  },
  {
   "cell_type": "markdown",
   "metadata": {},
   "source": [
    "**Une préférence ?**"
   ]
  },
  {
   "cell_type": "markdown",
   "metadata": {
    "slideshow": {
     "slide_type": "slide"
    }
   },
   "source": [
    "## Question de performances"
   ]
  },
  {
   "cell_type": "markdown",
   "metadata": {
    "slideshow": {
     "slide_type": "fragment"
    }
   },
   "source": [
    "### Boucles explicites"
   ]
  },
  {
   "cell_type": "code",
   "execution_count": 4,
   "metadata": {
    "collapsed": false,
    "slideshow": {
     "slide_type": "-"
    }
   },
   "outputs": [
    {
     "name": "stdout",
     "output_type": "stream",
     "text": [
      "1 loops, best of 3: 252 ms per loop\n"
     ]
    }
   ],
   "source": [
    "n = 1000000\n",
    "A = numpy.random.random(n)\n",
    "\n",
    "def explicit_sum(seq):\n",
    "    s = 0\n",
    "    for elem in seq:\n",
    "        s += elem ** 2\n",
    "    return s\n",
    "\n",
    "%timeit explicit_sum(A)"
   ]
  },
  {
   "cell_type": "code",
   "execution_count": 6,
   "metadata": {
    "collapsed": false,
    "slideshow": {
     "slide_type": "fragment"
    }
   },
   "outputs": [
    {
     "name": "stdout",
     "output_type": "stream",
     "text": [
      "100 loops, best of 3: 1.84 ms per loop\n"
     ]
    }
   ],
   "source": [
    "%timeit numpy.sum(A**2)"
   ]
  },
  {
   "cell_type": "code",
   "execution_count": null,
   "metadata": {
    "collapsed": true,
    "slideshow": {
     "slide_type": "subslide"
    }
   },
   "outputs": [],
   "source": [
    "### Cython"
   ]
  },
  {
   "cell_type": "code",
   "execution_count": 41,
   "metadata": {
    "collapsed": false,
    "slideshow": {
     "slide_type": "-"
    }
   },
   "outputs": [],
   "source": [
    "%load_ext Cython"
   ]
  },
  {
   "cell_type": "code",
   "execution_count": 8,
   "metadata": {
    "collapsed": false,
    "slideshow": {
     "slide_type": "fragment"
    }
   },
   "outputs": [],
   "source": [
    "%%cython\n",
    "cimport numpy as np\n",
    "cimport cython\n",
    "\n",
    "@cython.boundscheck(False)\n",
    "@cython.wraparound(False)\n",
    "def cython_sum(np.ndarray[double, ndim=1] A):\n",
    "    cdef double s = 0\n",
    "    cdef int i, n\n",
    "    n = len(A)\n",
    "    for i in range(n):\n",
    "        s += A[i] * A[i]\n",
    "    return s"
   ]
  },
  {
   "cell_type": "code",
   "execution_count": 9,
   "metadata": {
    "collapsed": false,
    "slideshow": {
     "slide_type": "fragment"
    }
   },
   "outputs": [
    {
     "name": "stdout",
     "output_type": "stream",
     "text": [
      "1000 loops, best of 3: 883 µs per loop\n"
     ]
    }
   ],
   "source": [
    "%timeit cython_sum(A)"
   ]
  },
  {
   "cell_type": "code",
   "execution_count": 11,
   "metadata": {
    "collapsed": false,
    "slideshow": {
     "slide_type": "subslide"
    }
   },
   "outputs": [
    {
     "name": "stdout",
     "output_type": "stream",
     "text": [
      "Overwriting pythran_sum.py\n"
     ]
    }
   ],
   "source": [
    "%%file pythran_sum.py\n",
    "\n",
    "#pythran export pythran_sum(float64[])\n",
    "\n",
    "import numpy\n",
    "def pythran_sum(A):\n",
    "    return numpy.sum(A**2)"
   ]
  },
  {
   "cell_type": "code",
   "execution_count": 12,
   "metadata": {
    "collapsed": false
   },
   "outputs": [
    {
     "name": "stdout",
     "output_type": "stream",
     "text": [
      "\u001b[33mWARNING \u001b[0m \u001b[34mYour pythranrc has an obsolete `user' section\u001b[0m\n",
      "\u001b[0m"
     ]
    }
   ],
   "source": [
    "!python -m pythran.run pythran_sum.py -DUSE_BOOST_SIMD -O3 -march=native"
   ]
  },
  {
   "cell_type": "code",
   "execution_count": 14,
   "metadata": {
    "collapsed": false
   },
   "outputs": [
    {
     "name": "stdout",
     "output_type": "stream",
     "text": [
      "1000 loops, best of 3: 401 usec per loop\r\n"
     ]
    }
   ],
   "source": [
    "!python -m timeit -s 'from pythran_sum import pythran_sum; import numpy; n = 1000000 ; A = numpy.random.random(n)' 'pythran_sum(A)'"
   ]
  },
  {
   "cell_type": "markdown",
   "metadata": {
    "collapsed": true,
    "slideshow": {
     "slide_type": "subslide"
    }
   },
   "source": [
    "## We don't need your loops!\n",
    "\n",
    "- Un appel de fonction a plus de sens qu'une boucle **pour un humain**\n",
    "- Un appel de fonction a plus de sens qu'une boucle **pour un compilateur**"
   ]
  },
  {
   "cell_type": "markdown",
   "metadata": {
    "slideshow": {
     "slide_type": "slide"
    }
   },
   "source": [
    "## Exemples de boucles amenées à disparaitre"
   ]
  },
  {
   "cell_type": "code",
   "execution_count": 16,
   "metadata": {
    "collapsed": false
   },
   "outputs": [],
   "source": [
    "n, m = 100, 200\n",
    "A = numpy.random.random((n,m))"
   ]
  },
  {
   "cell_type": "code",
   "execution_count": 19,
   "metadata": {
    "collapsed": false
   },
   "outputs": [
    {
     "name": "stdout",
     "output_type": "stream",
     "text": [
      "9714.74017815\n"
     ]
    }
   ],
   "source": [
    "s = 0.\n",
    "for i in range(1, n-1):\n",
    "    for j in range(1, m-1):\n",
    "        s += A[i,j]\n",
    "print(s)"
   ]
  },
  {
   "cell_type": "code",
   "execution_count": 21,
   "metadata": {
    "collapsed": false,
    "slideshow": {
     "slide_type": "fragment"
    }
   },
   "outputs": [
    {
     "name": "stdout",
     "output_type": "stream",
     "text": [
      "9714.74017815\n"
     ]
    }
   ],
   "source": [
    "print(numpy.sum(A[1:-1, 1:-1]))"
   ]
  },
  {
   "cell_type": "code",
   "execution_count": 22,
   "metadata": {
    "collapsed": false,
    "slideshow": {
     "slide_type": "subslide"
    }
   },
   "outputs": [
    {
     "name": "stdout",
     "output_type": "stream",
     "text": [
      "10043\n"
     ]
    }
   ],
   "source": [
    "s = 0\n",
    "for i in range(n):\n",
    "    for j in range(m):\n",
    "        if A[i,j] < .5:\n",
    "            s += 1\n",
    "print(s)"
   ]
  },
  {
   "cell_type": "code",
   "execution_count": 23,
   "metadata": {
    "collapsed": false,
    "slideshow": {
     "slide_type": "fragment"
    }
   },
   "outputs": [
    {
     "name": "stdout",
     "output_type": "stream",
     "text": [
      "10043\n"
     ]
    }
   ],
   "source": [
    "print(numpy.sum(A < .5))"
   ]
  },
  {
   "cell_type": "code",
   "execution_count": 25,
   "metadata": {
    "collapsed": false
   },
   "outputs": [
    {
     "name": "stdout",
     "output_type": "stream",
     "text": [
      "[[ 0.          0.24422838  0.38341328 ...,  0.43256797  0.          0.        ]\n",
      " [ 0.06229533  0.12058999  0.35258651 ...,  0.          0.          0.26504433]\n",
      " [ 0.          0.37721507  0.         ...,  0.          0.          0.45327171]\n",
      " ..., \n",
      " [ 0.10379296  0.14472365  0.26055037 ...,  0.25811615  0.46467391\n",
      "   0.05963935]\n",
      " [ 0.          0.          0.         ...,  0.          0.39666637\n",
      "   0.34696423]\n",
      " [ 0.          0.46156258  0.         ...,  0.40101053  0.          0.        ]]\n"
     ]
    }
   ],
   "source": [
    "s = 0\n",
    "B = numpy.empty_like(A)\n",
    "for i in range(n):\n",
    "    for j in range(m):\n",
    "        if A[i,j] < .5:\n",
    "            B[i,j] = A[i,j]\n",
    "        else:\n",
    "            B[i,j] = 0.\n",
    "print(B)"
   ]
  },
  {
   "cell_type": "code",
   "execution_count": 26,
   "metadata": {
    "collapsed": false
   },
   "outputs": [
    {
     "name": "stdout",
     "output_type": "stream",
     "text": [
      "[[ 0.          0.24422838  0.38341328 ...,  0.43256797  0.          0.        ]\n",
      " [ 0.06229533  0.12058999  0.35258651 ...,  0.          0.          0.26504433]\n",
      " [ 0.          0.37721507  0.         ...,  0.          0.          0.45327171]\n",
      " ..., \n",
      " [ 0.10379296  0.14472365  0.26055037 ...,  0.25811615  0.46467391\n",
      "   0.05963935]\n",
      " [ 0.          0.          0.         ...,  0.          0.39666637\n",
      "   0.34696423]\n",
      " [ 0.          0.46156258  0.         ...,  0.40101053  0.          0.        ]]\n"
     ]
    }
   ],
   "source": [
    "print(numpy.where(A<.5,A,0.))"
   ]
  },
  {
   "cell_type": "code",
   "execution_count": 27,
   "metadata": {
    "collapsed": true,
    "slideshow": {
     "slide_type": "subslide"
    }
   },
   "outputs": [],
   "source": [
    "### Piège!"
   ]
  },
  {
   "cell_type": "code",
   "execution_count": 33,
   "metadata": {
    "collapsed": false
   },
   "outputs": [
    {
     "name": "stdout",
     "output_type": "stream",
     "text": [
      "[ 0  1  2  1  2  3  2  3  4  3  4  5  4  5  6  5  6  7  6  7  8  7  8  9  8\n",
      "  9 10  9 10 11 10 11 12 11 12 13 12 13 14 13 14 15 14 15 16 15 16 17 16 17\n",
      " 18 17 18 19 18 19 20 19 20 21 20 21 22 21 22 23 22 23 24 23 24 25 24 25 26\n",
      " 25 26 27 26 27 28 27 28 29 28 29 30 29 30 31 30 31 32 31 32 33 32 33 34 33]\n"
     ]
    }
   ],
   "source": [
    "n = 100\n",
    "B = numpy.arange(100)\n",
    "shift = 3\n",
    "for i in range(shift, n):\n",
    "        B[i] = 1 + B[i - shift]\n",
    "print(B)"
   ]
  },
  {
   "cell_type": "code",
   "execution_count": 35,
   "metadata": {
    "collapsed": false,
    "slideshow": {
     "slide_type": "fragment"
    }
   },
   "outputs": [
    {
     "name": "stdout",
     "output_type": "stream",
     "text": [
      "[ 0  1  2  1  2  3  4  5  6  7  8  9 10 11 12 13 14 15 16 17 18 19 20 21 22\n",
      " 23 24 25 26 27 28 29 30 31 32 33 34 35 36 37 38 39 40 41 42 43 44 45 46 47\n",
      " 48 49 50 51 52 53 54 55 56 57 58 59 60 61 62 63 64 65 66 67 68 69 70 71 72\n",
      " 73 74 75 76 77 78 79 80 81 82 83 84 85 86 87 88 89 90 91 92 93 94 95 96 97]\n"
     ]
    }
   ],
   "source": [
    "B = numpy.arange(100)\n",
    "B[shift:] = 1 + B[:-shift]\n",
    "print(B)"
   ]
  },
  {
   "cell_type": "markdown",
   "metadata": {
    "slideshow": {
     "slide_type": "slide"
    }
   },
   "source": [
    "## Les scientifiquent codent en Numpy de haut niveau !"
   ]
  },
  {
   "cell_type": "code",
   "execution_count": 45,
   "metadata": {
    "collapsed": false
   },
   "outputs": [
    {
     "name": "stdout",
     "output_type": "stream",
     "text": [
      "Overwriting grayscott.py\n"
     ]
    }
   ],
   "source": [
    "%%file grayscott.py\n",
    "#pythran export GrayScott(int, float, float, float, float)\n",
    "\n",
    "import numpy as np\n",
    "def GrayScott(counts, Du, Dv, F, k):\n",
    "    n = 300\n",
    "    U = np.zeros((n+2,n+2), dtype=np.float32)\n",
    "    V = np.zeros((n+2,n+2), dtype=np.float32)\n",
    "    u, v = U[1:-1,1:-1], V[1:-1,1:-1]\n",
    "\n",
    "    r = 20\n",
    "    u[:] = 1.0\n",
    "    U[n/2-r:n/2+r,n/2-r:n/2+r] = 0.50\n",
    "    V[n/2-r:n/2+r,n/2-r:n/2+r] = 0.25\n",
    "\n",
    "    u += 0.15*np.random.random((n,n))\n",
    "    v += 0.15*np.random.random((n,n))\n",
    "\n",
    "    for i in range(counts):\n",
    "        Lu = (                 U[0:-2,1:-1] +\n",
    "              U[1:-1,0:-2] - 4*U[1:-1,1:-1] + U[1:-1,2:] +\n",
    "                               U[2:  ,1:-1] )\n",
    "        Lv = (                 V[0:-2,1:-1] +\n",
    "              V[1:-1,0:-2] - 4*V[1:-1,1:-1] + V[1:-1,2:] +\n",
    "                               V[2:  ,1:-1] )\n",
    "        uvv = u*v*v\n",
    "        u += Du*Lu - uvv + F*(1 - u)\n",
    "        v += Dv*Lv + uvv - (F + k)*v\n",
    "\n",
    "    return V\n"
   ]
  },
  {
   "cell_type": "code",
   "execution_count": 38,
   "metadata": {
    "collapsed": false,
    "slideshow": {
     "slide_type": "subslide"
    }
   },
   "outputs": [],
   "source": [
    "from grayscott import GrayScott"
   ]
  },
  {
   "cell_type": "code",
   "execution_count": 39,
   "metadata": {
    "collapsed": false
   },
   "outputs": [
    {
     "name": "stdout",
     "output_type": "stream",
     "text": [
      "10 loops, best of 3: 49.4 ms per loop\n"
     ]
    }
   ],
   "source": [
    "%timeit GrayScott(40, 0.16, 0.08, 0.04, 0.06)"
   ]
  },
  {
   "cell_type": "code",
   "execution_count": 42,
   "metadata": {
    "collapsed": false,
    "slideshow": {
     "slide_type": "subslide"
    }
   },
   "outputs": [],
   "source": [
    "%%cython\n",
    "cimport cython\n",
    "import numpy as np\n",
    "cimport numpy as np\n",
    "\n",
    "cpdef CythonGrayScott(int counts, double Du, double Dv, double F, double k):\n",
    "    cdef int n = 300\n",
    "    cdef np.ndarray U = np.zeros((n+2,n+2), dtype=np.float_)\n",
    "    cdef np.ndarray V = np.zeros((n+2,n+2), dtype=np.float_)\n",
    "    cdef np.ndarray u = U[1:-1,1:-1]\n",
    "    cdef np.ndarray v = V[1:-1,1:-1]\n",
    "\n",
    "    cdef int r = 20\n",
    "    u[:] = 1.0\n",
    "    U[n/2-r:n/2+r,n/2-r:n/2+r] = 0.50\n",
    "    V[n/2-r:n/2+r,n/2-r:n/2+r] = 0.25\n",
    "    u += 0.15*np.random.random((n,n))\n",
    "    v += 0.15*np.random.random((n,n))\n",
    "\n",
    "    cdef np.ndarray Lu = np.zeros_like(u)\n",
    "    cdef np.ndarray Lv = np.zeros_like(v)\n",
    "    cdef int i, c, r1, c1, r2, c2\n",
    "    cdef double uvv\n",
    "\n",
    "    cdef double[:, ::1] bU = U\n",
    "    cdef double[:, ::1] bV = V\n",
    "    cdef double[:, ::1] bLu = Lu\n",
    "    cdef double[:, ::1] bLv = Lv\n",
    "\n",
    "    for i in range(counts):\n",
    "        for r in range(n):\n",
    "            r1 = r + 1\n",
    "            r2 = r + 2\n",
    "            for c in range(n):\n",
    "                c1 = c + 1\n",
    "                c2 = c + 2\n",
    "                bLu[r,c] = bU[r1,c2] + bU[r1,c] + bU[r2,c1] + bU[r,c1] - 4*bU[r1,c1]\n",
    "                bLv[r,c] = bV[r1,c2] + bV[r1,c] + bV[r2,c1] + bV[r,c1] - 4*bV[r1,c1]\n",
    "\n",
    "        for r in range(n):\n",
    "            r1 = r + 1\n",
    "            for c in range(n):\n",
    "                c1 = c + 1\n",
    "                uvv = bU[r1,c1]*bV[r1,c1]*bV[r1,c1]\n",
    "                bU[r1,c1] += Du*bLu[r,c] - uvv + F*(1 - bU[r1,c1])\n",
    "                bV[r1,c1] += Dv*bLv[r,c] + uvv - (F + k)*bV[r1,c1]\n",
    "    return V\n"
   ]
  },
  {
   "cell_type": "code",
   "execution_count": 61,
   "metadata": {
    "collapsed": false,
    "slideshow": {
     "slide_type": "subslide"
    }
   },
   "outputs": [
    {
     "name": "stdout",
     "output_type": "stream",
     "text": [
      "10 loops, best of 3: 50.3 ms per loop\n",
      "10 loops, best of 3: 37.9 ms per loop\n"
     ]
    }
   ],
   "source": [
    "%timeit GrayScott(40, 0.16, 0.08, 0.04, 0.06)\n",
    "%timeit CythonGrayScott(40, 0.16, 0.08, 0.04, 0.06)"
   ]
  },
  {
   "cell_type": "code",
   "execution_count": 62,
   "metadata": {
    "collapsed": false,
    "slideshow": {
     "slide_type": "subslide"
    }
   },
   "outputs": [
    {
     "name": "stdout",
     "output_type": "stream",
     "text": [
      "\u001b[33mWARNING \u001b[0m \u001b[34mYour pythranrc has an obsolete `user' section\u001b[0m\n",
      "\u001b[0m"
     ]
    }
   ],
   "source": [
    "!python -m pythran.run -O3 -march=native grayscott.py -o pythran_grayscott.so"
   ]
  },
  {
   "cell_type": "code",
   "execution_count": 63,
   "metadata": {
    "collapsed": false,
    "slideshow": {
     "slide_type": "fragment"
    }
   },
   "outputs": [
    {
     "name": "stdout",
     "output_type": "stream",
     "text": [
      "10 loops, best of 3: 33.1 msec per loop\r\n"
     ]
    }
   ],
   "source": [
    "! python -m timeit -s 'from pythran_grayscott import GrayScott' 'GrayScott(40, 0.16, 0.08, 0.04, 0.06)'"
   ]
  },
  {
   "cell_type": "markdown",
   "metadata": {
    "slideshow": {
     "slide_type": "slide"
    }
   },
   "source": [
    "## Optimisations faites par Pythran\n",
    "\n",
    "- Fusion de boucle (_expression template_ + _forward subsitution_)\n",
    "- Propagation de constantes interprocédurales\n",
    "- Élimination de code mort\n",
    "- Évaluation paresseuse\n",
    "- substitution de motifs\n",
    "- Déroulage de boucles étendues\n",
    "- Vectorisation (génération de code SIMD)"
   ]
  },
  {
   "cell_type": "markdown",
   "metadata": {
    "slideshow": {
     "slide_type": "subslide"
    }
   },
   "source": [
    "### Fonctionnalités supportées par Pythran\n",
    "\n",
    "- Python2.7\n",
    "- Exception\n",
    "- _List/set/dict comprehension_\n",
    "- Générateurs, _generator expression_\n",
    "- Récursion\n",
    "- lambda, fonctions imbriquées, fermetures\n",
    "- _type destructuring_\n",
    "\n",
    "### Mais pas\n",
    "\n",
    "- Python3 (plus compliqué qu'il n'y parait!)\n",
    "- Classes utilisateurs\n",
    "- Code implicitement non statiquement typé\n",
    "- Gestionnaires `with` \n"
   ]
  },
  {
   "cell_type": "markdown",
   "metadata": {
    "slideshow": {
     "slide_type": "subslide"
    }
   },
   "source": [
    "### Paquets, modules et fonctions supportés\n",
    "\n",
    "- `__builtin__`, `math`, `cmath`\n",
    "- `bisect`, `functools` (juste `partial` en fait), `itertools`\n",
    "- `operator`, `random`, `string`, `time`\n",
    "- `numpy` (dont `numpy.random` mais pas `numpy.linalg`)"
   ]
  },
  {
   "cell_type": "markdown",
   "metadata": {
    "slideshow": {
     "slide_type": "slide"
    }
   },
   "source": [
    "## Séduits ? Pas convaincus ? Essayez le !\n",
    "\n",
    "- ``pip install pythran``\n",
    "- http://pythonhosted.org/pythran/"
   ]
  },
  {
   "cell_type": "code",
   "execution_count": null,
   "metadata": {
    "collapsed": true
   },
   "outputs": [],
   "source": []
  }
 ],
 "metadata": {
  "celltoolbar": "Slideshow",
  "kernelspec": {
   "display_name": "Python 3",
   "language": "python",
   "name": "python3"
  },
  "language_info": {
   "codemirror_mode": {
    "name": "ipython",
    "version": 3
   },
   "file_extension": ".py",
   "mimetype": "text/x-python",
   "name": "python",
   "nbconvert_exporter": "python",
   "pygments_lexer": "ipython3",
   "version": "3.4.3+"
  }
 },
 "nbformat": 4,
 "nbformat_minor": 0
}
